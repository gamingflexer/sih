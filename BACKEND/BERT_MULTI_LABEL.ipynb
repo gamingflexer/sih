{
  "nbformat": 4,
  "nbformat_minor": 0,
  "metadata": {
    "colab": {
      "name": "BERT-MULTI-LABEL.ipynb",
      "provenance": [],
      "collapsed_sections": []
    },
    "kernelspec": {
      "name": "python3",
      "display_name": "Python 3"
    },
    "language_info": {
      "name": "python"
    },
    "accelerator": "GPU"
  },
  "cells": [
    {
      "cell_type": "code",
      "execution_count": 4,
      "metadata": {
        "colab": {
          "base_uri": "https://localhost:8080/"
        },
        "id": "UOMnsPMsugSf",
        "outputId": "04c00f77-1810-4434-d1e8-1a278f22a186"
      },
      "outputs": [
        {
          "output_type": "stream",
          "name": "stdout",
          "text": [
            "\u001b[?25l\r\u001b[K     |█▉                              | 10 kB 18.1 MB/s eta 0:00:01\r\u001b[K     |███▊                            | 20 kB 12.9 MB/s eta 0:00:01\r\u001b[K     |█████▋                          | 30 kB 7.3 MB/s eta 0:00:01\r\u001b[K     |███████▌                        | 40 kB 6.7 MB/s eta 0:00:01\r\u001b[K     |█████████▍                      | 51 kB 3.7 MB/s eta 0:00:01\r\u001b[K     |███████████▎                    | 61 kB 4.3 MB/s eta 0:00:01\r\u001b[K     |█████████████▏                  | 71 kB 4.6 MB/s eta 0:00:01\r\u001b[K     |███████████████                 | 81 kB 4.6 MB/s eta 0:00:01\r\u001b[K     |█████████████████               | 92 kB 5.1 MB/s eta 0:00:01\r\u001b[K     |██████████████████▉             | 102 kB 4.4 MB/s eta 0:00:01\r\u001b[K     |████████████████████▊           | 112 kB 4.4 MB/s eta 0:00:01\r\u001b[K     |██████████████████████▋         | 122 kB 4.4 MB/s eta 0:00:01\r\u001b[K     |████████████████████████▌       | 133 kB 4.4 MB/s eta 0:00:01\r\u001b[K     |██████████████████████████▍     | 143 kB 4.4 MB/s eta 0:00:01\r\u001b[K     |████████████████████████████▏   | 153 kB 4.4 MB/s eta 0:00:01\r\u001b[K     |██████████████████████████████  | 163 kB 4.4 MB/s eta 0:00:01\r\u001b[K     |████████████████████████████████| 174 kB 4.4 MB/s eta 0:00:01\r\u001b[K     |████████████████████████████████| 174 kB 4.4 MB/s \n",
            "\u001b[?25h  Building wheel for emoji (setup.py) ... \u001b[?25l\u001b[?25hdone\n"
          ]
        }
      ],
      "source": [
        "pip install beautifulsoup4 transformers emoji -q"
      ]
    },
    {
      "cell_type": "markdown",
      "source": [
        "### Imports"
      ],
      "metadata": {
        "id": "csHb8PWDMY1M"
      }
    },
    {
      "cell_type": "code",
      "source": [
        "import os\n",
        "import re\n",
        "import string\n",
        "import json\n",
        "import emoji\n",
        "import numpy as np\n",
        "import pandas as pd\n",
        "from sklearn import metrics\n",
        "from bs4 import BeautifulSoup\n",
        "import transformers\n",
        "import torch\n",
        "from torch.utils.data import Dataset, DataLoader, RandomSampler, SequentialSampler\n",
        "from transformers import BertTokenizer, AutoTokenizer, BertModel, BertConfig, AutoModel, AdamW\n",
        "import warnings\n",
        "device = 'cuda' if torch.cuda.is_available() else 'cpu'\n",
        "warnings.filterwarnings('ignore')\n",
        "\n",
        "pd.set_option(\"display.max_columns\", None)"
      ],
      "metadata": {
        "id": "e_K0x5GQuygP"
      },
      "execution_count": 29,
      "outputs": []
    },
    {
      "cell_type": "code",
      "source": [
        "df_train = pd.read_csv('/content/drive/MyDrive/Colab Notebooks/datasets/SIH/tweets/30k - tweet - many param/many_para/disaster_response_messages_training.csv')\n",
        "df_test = pd.read_csv('/content/drive/MyDrive/Colab Notebooks/datasets/SIH/tweets/30k - tweet - many param/many_para/disaster_response_messages_test.csv')"
      ],
      "metadata": {
        "id": "NBbMuEyuuze5"
      },
      "execution_count": 6,
      "outputs": []
    },
    {
      "cell_type": "code",
      "source": [
        "df_train['genre'].unique()"
      ],
      "metadata": {
        "colab": {
          "base_uri": "https://localhost:8080/"
        },
        "id": "3MhfkV7yvmXD",
        "outputId": "ba992b56-2cdd-4248-e2db-0e096e0bbed5"
      },
      "execution_count": 8,
      "outputs": [
        {
          "output_type": "execute_result",
          "data": {
            "text/plain": [
              "array(['direct', 'social', 'news'], dtype=object)"
            ]
          },
          "metadata": {},
          "execution_count": 8
        }
      ]
    },
    {
      "cell_type": "code",
      "source": [
        "df_train.columns"
      ],
      "metadata": {
        "colab": {
          "base_uri": "https://localhost:8080/"
        },
        "id": "1f4LvtRYv2k-",
        "outputId": "08742a6a-6f38-4b85-f4b9-822173174a1e"
      },
      "execution_count": 9,
      "outputs": [
        {
          "output_type": "execute_result",
          "data": {
            "text/plain": [
              "Index(['id', 'split', 'message', 'original', 'genre', 'related', 'PII',\n",
              "       'request', 'offer', 'aid_related', 'medical_help', 'medical_products',\n",
              "       'search_and_rescue', 'security', 'military', 'child_alone', 'water',\n",
              "       'food', 'shelter', 'clothing', 'money', 'missing_people', 'refugees',\n",
              "       'death', 'other_aid', 'infrastructure_related', 'transport',\n",
              "       'buildings', 'electricity', 'tools', 'hospitals', 'shops',\n",
              "       'aid_centers', 'other_infrastructure', 'weather_related', 'floods',\n",
              "       'storm', 'fire', 'earthquake', 'cold', 'other_weather',\n",
              "       'direct_report'],\n",
              "      dtype='object')"
            ]
          },
          "metadata": {},
          "execution_count": 9
        }
      ]
    },
    {
      "cell_type": "code",
      "source": [
        "df_train['Emotion'] = np.zeros((len(df_train),1))\n",
        "df_test['Emotion'] = np.zeros((len(df_test),1))"
      ],
      "metadata": {
        "id": "HeLtF4tOx5Eq"
      },
      "execution_count": 16,
      "outputs": []
    },
    {
      "cell_type": "code",
      "source": [
        "df_train.head(5) #message #genre #labels"
      ],
      "metadata": {
        "colab": {
          "base_uri": "https://localhost:8080/",
          "height": 600
        },
        "id": "-vU5e_QbwBdI",
        "outputId": "65fa177d-2fe2-4633-c65a-399001468e18"
      },
      "execution_count": 14,
      "outputs": [
        {
          "output_type": "execute_result",
          "data": {
            "text/html": [
              "\n",
              "  <div id=\"df-e2c941a5-67ca-442e-ad6c-073a0ed814cb\">\n",
              "    <div class=\"colab-df-container\">\n",
              "      <div>\n",
              "<style scoped>\n",
              "    .dataframe tbody tr th:only-of-type {\n",
              "        vertical-align: middle;\n",
              "    }\n",
              "\n",
              "    .dataframe tbody tr th {\n",
              "        vertical-align: top;\n",
              "    }\n",
              "\n",
              "    .dataframe thead th {\n",
              "        text-align: right;\n",
              "    }\n",
              "</style>\n",
              "<table border=\"1\" class=\"dataframe\">\n",
              "  <thead>\n",
              "    <tr style=\"text-align: right;\">\n",
              "      <th></th>\n",
              "      <th>id</th>\n",
              "      <th>split</th>\n",
              "      <th>message</th>\n",
              "      <th>original</th>\n",
              "      <th>genre</th>\n",
              "      <th>related</th>\n",
              "      <th>PII</th>\n",
              "      <th>request</th>\n",
              "      <th>offer</th>\n",
              "      <th>aid_related</th>\n",
              "      <th>medical_help</th>\n",
              "      <th>medical_products</th>\n",
              "      <th>search_and_rescue</th>\n",
              "      <th>security</th>\n",
              "      <th>military</th>\n",
              "      <th>child_alone</th>\n",
              "      <th>water</th>\n",
              "      <th>food</th>\n",
              "      <th>shelter</th>\n",
              "      <th>clothing</th>\n",
              "      <th>money</th>\n",
              "      <th>missing_people</th>\n",
              "      <th>refugees</th>\n",
              "      <th>death</th>\n",
              "      <th>other_aid</th>\n",
              "      <th>infrastructure_related</th>\n",
              "      <th>transport</th>\n",
              "      <th>buildings</th>\n",
              "      <th>electricity</th>\n",
              "      <th>tools</th>\n",
              "      <th>hospitals</th>\n",
              "      <th>shops</th>\n",
              "      <th>aid_centers</th>\n",
              "      <th>other_infrastructure</th>\n",
              "      <th>weather_related</th>\n",
              "      <th>floods</th>\n",
              "      <th>storm</th>\n",
              "      <th>fire</th>\n",
              "      <th>earthquake</th>\n",
              "      <th>cold</th>\n",
              "      <th>other_weather</th>\n",
              "      <th>direct_report</th>\n",
              "      <th>Emotion</th>\n",
              "    </tr>\n",
              "  </thead>\n",
              "  <tbody>\n",
              "    <tr>\n",
              "      <th>0</th>\n",
              "      <td>2</td>\n",
              "      <td>train</td>\n",
              "      <td>Weather update - a cold front from Cuba that c...</td>\n",
              "      <td>Un front froid se retrouve sur Cuba ce matin. ...</td>\n",
              "      <td>direct</td>\n",
              "      <td>1</td>\n",
              "      <td>0</td>\n",
              "      <td>0</td>\n",
              "      <td>0</td>\n",
              "      <td>0</td>\n",
              "      <td>0</td>\n",
              "      <td>0</td>\n",
              "      <td>0</td>\n",
              "      <td>0</td>\n",
              "      <td>0</td>\n",
              "      <td>0</td>\n",
              "      <td>0</td>\n",
              "      <td>0</td>\n",
              "      <td>0</td>\n",
              "      <td>0</td>\n",
              "      <td>0</td>\n",
              "      <td>0</td>\n",
              "      <td>0</td>\n",
              "      <td>0</td>\n",
              "      <td>0</td>\n",
              "      <td>0</td>\n",
              "      <td>0</td>\n",
              "      <td>0</td>\n",
              "      <td>0</td>\n",
              "      <td>0</td>\n",
              "      <td>0</td>\n",
              "      <td>0</td>\n",
              "      <td>0</td>\n",
              "      <td>0</td>\n",
              "      <td>0</td>\n",
              "      <td>0</td>\n",
              "      <td>0</td>\n",
              "      <td>0</td>\n",
              "      <td>0</td>\n",
              "      <td>0</td>\n",
              "      <td>0</td>\n",
              "      <td>0</td>\n",
              "      <td>0.0</td>\n",
              "    </tr>\n",
              "    <tr>\n",
              "      <th>1</th>\n",
              "      <td>7</td>\n",
              "      <td>train</td>\n",
              "      <td>Is the Hurricane over or is it not over</td>\n",
              "      <td>Cyclone nan fini osinon li pa fini</td>\n",
              "      <td>direct</td>\n",
              "      <td>1</td>\n",
              "      <td>0</td>\n",
              "      <td>0</td>\n",
              "      <td>0</td>\n",
              "      <td>1</td>\n",
              "      <td>0</td>\n",
              "      <td>0</td>\n",
              "      <td>0</td>\n",
              "      <td>0</td>\n",
              "      <td>0</td>\n",
              "      <td>0</td>\n",
              "      <td>0</td>\n",
              "      <td>0</td>\n",
              "      <td>0</td>\n",
              "      <td>0</td>\n",
              "      <td>0</td>\n",
              "      <td>0</td>\n",
              "      <td>0</td>\n",
              "      <td>0</td>\n",
              "      <td>1</td>\n",
              "      <td>0</td>\n",
              "      <td>0</td>\n",
              "      <td>0</td>\n",
              "      <td>0</td>\n",
              "      <td>0</td>\n",
              "      <td>0</td>\n",
              "      <td>0</td>\n",
              "      <td>0</td>\n",
              "      <td>0</td>\n",
              "      <td>1</td>\n",
              "      <td>0</td>\n",
              "      <td>1</td>\n",
              "      <td>0</td>\n",
              "      <td>0</td>\n",
              "      <td>0</td>\n",
              "      <td>0</td>\n",
              "      <td>0</td>\n",
              "      <td>0.0</td>\n",
              "    </tr>\n",
              "    <tr>\n",
              "      <th>2</th>\n",
              "      <td>12</td>\n",
              "      <td>train</td>\n",
              "      <td>says: west side of Haiti, rest of the country ...</td>\n",
              "      <td>facade ouest d Haiti et le reste du pays aujou...</td>\n",
              "      <td>direct</td>\n",
              "      <td>1</td>\n",
              "      <td>0</td>\n",
              "      <td>0</td>\n",
              "      <td>0</td>\n",
              "      <td>0</td>\n",
              "      <td>0</td>\n",
              "      <td>0</td>\n",
              "      <td>0</td>\n",
              "      <td>0</td>\n",
              "      <td>0</td>\n",
              "      <td>0</td>\n",
              "      <td>0</td>\n",
              "      <td>0</td>\n",
              "      <td>0</td>\n",
              "      <td>0</td>\n",
              "      <td>0</td>\n",
              "      <td>0</td>\n",
              "      <td>0</td>\n",
              "      <td>0</td>\n",
              "      <td>0</td>\n",
              "      <td>0</td>\n",
              "      <td>0</td>\n",
              "      <td>0</td>\n",
              "      <td>0</td>\n",
              "      <td>0</td>\n",
              "      <td>0</td>\n",
              "      <td>0</td>\n",
              "      <td>0</td>\n",
              "      <td>0</td>\n",
              "      <td>0</td>\n",
              "      <td>0</td>\n",
              "      <td>0</td>\n",
              "      <td>0</td>\n",
              "      <td>0</td>\n",
              "      <td>0</td>\n",
              "      <td>0</td>\n",
              "      <td>0</td>\n",
              "      <td>0.0</td>\n",
              "    </tr>\n",
              "    <tr>\n",
              "      <th>3</th>\n",
              "      <td>14</td>\n",
              "      <td>train</td>\n",
              "      <td>Information about the National Palace-</td>\n",
              "      <td>Informtion au nivaux palais nationl</td>\n",
              "      <td>direct</td>\n",
              "      <td>0</td>\n",
              "      <td>0</td>\n",
              "      <td>0</td>\n",
              "      <td>0</td>\n",
              "      <td>0</td>\n",
              "      <td>0</td>\n",
              "      <td>0</td>\n",
              "      <td>0</td>\n",
              "      <td>0</td>\n",
              "      <td>0</td>\n",
              "      <td>0</td>\n",
              "      <td>0</td>\n",
              "      <td>0</td>\n",
              "      <td>0</td>\n",
              "      <td>0</td>\n",
              "      <td>0</td>\n",
              "      <td>0</td>\n",
              "      <td>0</td>\n",
              "      <td>0</td>\n",
              "      <td>0</td>\n",
              "      <td>0</td>\n",
              "      <td>0</td>\n",
              "      <td>0</td>\n",
              "      <td>0</td>\n",
              "      <td>0</td>\n",
              "      <td>0</td>\n",
              "      <td>0</td>\n",
              "      <td>0</td>\n",
              "      <td>0</td>\n",
              "      <td>0</td>\n",
              "      <td>0</td>\n",
              "      <td>0</td>\n",
              "      <td>0</td>\n",
              "      <td>0</td>\n",
              "      <td>0</td>\n",
              "      <td>0</td>\n",
              "      <td>0</td>\n",
              "      <td>0.0</td>\n",
              "    </tr>\n",
              "    <tr>\n",
              "      <th>4</th>\n",
              "      <td>15</td>\n",
              "      <td>train</td>\n",
              "      <td>Storm at sacred heart of jesus</td>\n",
              "      <td>Cyclone Coeur sacr de jesus</td>\n",
              "      <td>direct</td>\n",
              "      <td>1</td>\n",
              "      <td>0</td>\n",
              "      <td>0</td>\n",
              "      <td>0</td>\n",
              "      <td>0</td>\n",
              "      <td>0</td>\n",
              "      <td>0</td>\n",
              "      <td>0</td>\n",
              "      <td>0</td>\n",
              "      <td>0</td>\n",
              "      <td>0</td>\n",
              "      <td>0</td>\n",
              "      <td>0</td>\n",
              "      <td>0</td>\n",
              "      <td>0</td>\n",
              "      <td>0</td>\n",
              "      <td>0</td>\n",
              "      <td>0</td>\n",
              "      <td>0</td>\n",
              "      <td>0</td>\n",
              "      <td>0</td>\n",
              "      <td>0</td>\n",
              "      <td>0</td>\n",
              "      <td>0</td>\n",
              "      <td>0</td>\n",
              "      <td>0</td>\n",
              "      <td>0</td>\n",
              "      <td>0</td>\n",
              "      <td>0</td>\n",
              "      <td>1</td>\n",
              "      <td>0</td>\n",
              "      <td>1</td>\n",
              "      <td>0</td>\n",
              "      <td>0</td>\n",
              "      <td>0</td>\n",
              "      <td>0</td>\n",
              "      <td>0</td>\n",
              "      <td>0.0</td>\n",
              "    </tr>\n",
              "  </tbody>\n",
              "</table>\n",
              "</div>\n",
              "      <button class=\"colab-df-convert\" onclick=\"convertToInteractive('df-e2c941a5-67ca-442e-ad6c-073a0ed814cb')\"\n",
              "              title=\"Convert this dataframe to an interactive table.\"\n",
              "              style=\"display:none;\">\n",
              "        \n",
              "  <svg xmlns=\"http://www.w3.org/2000/svg\" height=\"24px\"viewBox=\"0 0 24 24\"\n",
              "       width=\"24px\">\n",
              "    <path d=\"M0 0h24v24H0V0z\" fill=\"none\"/>\n",
              "    <path d=\"M18.56 5.44l.94 2.06.94-2.06 2.06-.94-2.06-.94-.94-2.06-.94 2.06-2.06.94zm-11 1L8.5 8.5l.94-2.06 2.06-.94-2.06-.94L8.5 2.5l-.94 2.06-2.06.94zm10 10l.94 2.06.94-2.06 2.06-.94-2.06-.94-.94-2.06-.94 2.06-2.06.94z\"/><path d=\"M17.41 7.96l-1.37-1.37c-.4-.4-.92-.59-1.43-.59-.52 0-1.04.2-1.43.59L10.3 9.45l-7.72 7.72c-.78.78-.78 2.05 0 2.83L4 21.41c.39.39.9.59 1.41.59.51 0 1.02-.2 1.41-.59l7.78-7.78 2.81-2.81c.8-.78.8-2.07 0-2.86zM5.41 20L4 18.59l7.72-7.72 1.47 1.35L5.41 20z\"/>\n",
              "  </svg>\n",
              "      </button>\n",
              "      \n",
              "  <style>\n",
              "    .colab-df-container {\n",
              "      display:flex;\n",
              "      flex-wrap:wrap;\n",
              "      gap: 12px;\n",
              "    }\n",
              "\n",
              "    .colab-df-convert {\n",
              "      background-color: #E8F0FE;\n",
              "      border: none;\n",
              "      border-radius: 50%;\n",
              "      cursor: pointer;\n",
              "      display: none;\n",
              "      fill: #1967D2;\n",
              "      height: 32px;\n",
              "      padding: 0 0 0 0;\n",
              "      width: 32px;\n",
              "    }\n",
              "\n",
              "    .colab-df-convert:hover {\n",
              "      background-color: #E2EBFA;\n",
              "      box-shadow: 0px 1px 2px rgba(60, 64, 67, 0.3), 0px 1px 3px 1px rgba(60, 64, 67, 0.15);\n",
              "      fill: #174EA6;\n",
              "    }\n",
              "\n",
              "    [theme=dark] .colab-df-convert {\n",
              "      background-color: #3B4455;\n",
              "      fill: #D2E3FC;\n",
              "    }\n",
              "\n",
              "    [theme=dark] .colab-df-convert:hover {\n",
              "      background-color: #434B5C;\n",
              "      box-shadow: 0px 1px 3px 1px rgba(0, 0, 0, 0.15);\n",
              "      filter: drop-shadow(0px 1px 2px rgba(0, 0, 0, 0.3));\n",
              "      fill: #FFFFFF;\n",
              "    }\n",
              "  </style>\n",
              "\n",
              "      <script>\n",
              "        const buttonEl =\n",
              "          document.querySelector('#df-e2c941a5-67ca-442e-ad6c-073a0ed814cb button.colab-df-convert');\n",
              "        buttonEl.style.display =\n",
              "          google.colab.kernel.accessAllowed ? 'block' : 'none';\n",
              "\n",
              "        async function convertToInteractive(key) {\n",
              "          const element = document.querySelector('#df-e2c941a5-67ca-442e-ad6c-073a0ed814cb');\n",
              "          const dataTable =\n",
              "            await google.colab.kernel.invokeFunction('convertToInteractive',\n",
              "                                                     [key], {});\n",
              "          if (!dataTable) return;\n",
              "\n",
              "          const docLinkHtml = 'Like what you see? Visit the ' +\n",
              "            '<a target=\"_blank\" href=https://colab.research.google.com/notebooks/data_table.ipynb>data table notebook</a>'\n",
              "            + ' to learn more about interactive tables.';\n",
              "          element.innerHTML = '';\n",
              "          dataTable['output_type'] = 'display_data';\n",
              "          await google.colab.output.renderOutput(dataTable, element);\n",
              "          const docLink = document.createElement('div');\n",
              "          docLink.innerHTML = docLinkHtml;\n",
              "          element.appendChild(docLink);\n",
              "        }\n",
              "      </script>\n",
              "    </div>\n",
              "  </div>\n",
              "  "
            ],
            "text/plain": [
              "   id  split                                            message  \\\n",
              "0   2  train  Weather update - a cold front from Cuba that c...   \n",
              "1   7  train            Is the Hurricane over or is it not over   \n",
              "2  12  train  says: west side of Haiti, rest of the country ...   \n",
              "3  14  train             Information about the National Palace-   \n",
              "4  15  train                     Storm at sacred heart of jesus   \n",
              "\n",
              "                                            original   genre  related  PII  \\\n",
              "0  Un front froid se retrouve sur Cuba ce matin. ...  direct        1    0   \n",
              "1                 Cyclone nan fini osinon li pa fini  direct        1    0   \n",
              "2  facade ouest d Haiti et le reste du pays aujou...  direct        1    0   \n",
              "3                Informtion au nivaux palais nationl  direct        0    0   \n",
              "4                        Cyclone Coeur sacr de jesus  direct        1    0   \n",
              "\n",
              "   request  offer  aid_related  medical_help  medical_products  \\\n",
              "0        0      0            0             0                 0   \n",
              "1        0      0            1             0                 0   \n",
              "2        0      0            0             0                 0   \n",
              "3        0      0            0             0                 0   \n",
              "4        0      0            0             0                 0   \n",
              "\n",
              "   search_and_rescue  security  military  child_alone  water  food  shelter  \\\n",
              "0                  0         0         0            0      0     0        0   \n",
              "1                  0         0         0            0      0     0        0   \n",
              "2                  0         0         0            0      0     0        0   \n",
              "3                  0         0         0            0      0     0        0   \n",
              "4                  0         0         0            0      0     0        0   \n",
              "\n",
              "   clothing  money  missing_people  refugees  death  other_aid  \\\n",
              "0         0      0               0         0      0          0   \n",
              "1         0      0               0         0      0          1   \n",
              "2         0      0               0         0      0          0   \n",
              "3         0      0               0         0      0          0   \n",
              "4         0      0               0         0      0          0   \n",
              "\n",
              "   infrastructure_related  transport  buildings  electricity  tools  \\\n",
              "0                       0          0          0            0      0   \n",
              "1                       0          0          0            0      0   \n",
              "2                       0          0          0            0      0   \n",
              "3                       0          0          0            0      0   \n",
              "4                       0          0          0            0      0   \n",
              "\n",
              "   hospitals  shops  aid_centers  other_infrastructure  weather_related  \\\n",
              "0          0      0            0                     0                0   \n",
              "1          0      0            0                     0                1   \n",
              "2          0      0            0                     0                0   \n",
              "3          0      0            0                     0                0   \n",
              "4          0      0            0                     0                1   \n",
              "\n",
              "   floods  storm  fire  earthquake  cold  other_weather  direct_report  \\\n",
              "0       0      0     0           0     0              0              0   \n",
              "1       0      1     0           0     0              0              0   \n",
              "2       0      0     0           0     0              0              0   \n",
              "3       0      0     0           0     0              0              0   \n",
              "4       0      1     0           0     0              0              0   \n",
              "\n",
              "   Emotion  \n",
              "0      0.0  \n",
              "1      0.0  \n",
              "2      0.0  \n",
              "3      0.0  \n",
              "4      0.0  "
            ]
          },
          "metadata": {},
          "execution_count": 14
        }
      ]
    },
    {
      "cell_type": "code",
      "source": [
        "# for i in ['related', 'PII',\n",
        "#        'request', 'offer', 'aid_related', 'medical_help', 'medical_products',\n",
        "#        'search_and_rescue', 'security', 'military', 'child_alone', 'water',\n",
        "#        'food', 'shelter', 'clothing', 'money', 'missing_people', 'refugees',\n",
        "#        'death', 'other_aid', 'infrastructure_related', 'transport',\n",
        "#        'buildings', 'electricity', 'tools', 'hospitals', 'shops',\n",
        "#        'aid_centers', 'other_infrastructure', 'weather_related', 'floods',\n",
        "#        'storm', 'fire', 'earthquake', 'cold', 'other_weather',\n",
        "#        'direct_report']:\n",
        "#         df_train[i] = df_train['Emotion'].apply(lambda x: 1 if i in x else 0)\n",
        "#         df_test[i] = df_test['Emotion'].apply(lambda x: 1 if i in x else 0)\n"
      ],
      "metadata": {
        "id": "47X0GJdvwGKC"
      },
      "execution_count": 19,
      "outputs": []
    },
    {
      "cell_type": "markdown",
      "source": [
        "### Cleanning"
      ],
      "metadata": {
        "id": "TQEZrpgdyrPL"
      }
    },
    {
      "cell_type": "code",
      "source": [
        "contraction_mapping = {\"ain't\": \"is not\", \"aren't\": \"are not\",\"can't\": \"cannot\", \"'cause\": \"because\", \"could've\": \"could have\", \"couldn't\": \"could not\", \n",
        "                       \"didn't\": \"did not\",  \"doesn't\": \"does not\", \"don't\": \"do not\", \"hadn't\": \"had not\", \"hasn't\": \"has not\", \"haven't\": \"have not\", \n",
        "                       \"he'd\": \"he would\",\"he'll\": \"he will\", \"he's\": \"he is\", \"how'd\": \"how did\", \"how'd'y\": \"how do you\", \"how'll\": \"how will\", \n",
        "                       \"how's\": \"how is\",  \"I'd\": \"I would\", \"I'd've\": \"I would have\", \"I'll\": \"I will\", \"I'll've\": \"I will have\",\"I'm\": \"I am\",\n",
        "                       \"I've\": \"I have\", \"i'd\": \"i would\", \"i'd've\": \"i would have\", \"i'll\": \"i will\",  \"i'll've\": \"i will have\",\"i'm\": \"i am\", \n",
        "                       \"i've\": \"i have\", \"isn't\": \"is not\", \"it'd\": \"it would\", \"it'd've\": \"it would have\", \"it'll\": \"it will\", \"it'll've\": \"it will have\",\n",
        "                       \"it's\": \"it is\", \"let's\": \"let us\", \"ma'am\": \"madam\", \"mayn't\": \"may not\", \"might've\": \"might have\",\"mightn't\": \"might not\",\n",
        "                       \"mightn't've\": \"might not have\", \"must've\": \"must have\", \"mustn't\": \"must not\", \"mustn't've\": \"must not have\", \"needn't\": \"need not\", \n",
        "                       \"needn't've\": \"need not have\",\"o'clock\": \"of the clock\", \"oughtn't\": \"ought not\", \"oughtn't've\": \"ought not have\", \"shan't\": \"shall not\",\n",
        "                       \"sha'n't\": \"shall not\", \"shan't've\": \"shall not have\", \"she'd\": \"she would\", \"she'd've\": \"she would have\", \"she'll\": \"she will\", \n",
        "                       \"she'll've\": \"she will have\", \"she's\": \"she is\", \"should've\": \"should have\", \"shouldn't\": \"should not\", \"shouldn't've\": \"should not have\",\n",
        "                       \"so've\": \"so have\",\"so's\": \"so as\", \"this's\": \"this is\",\"that'd\": \"that would\", \"that'd've\": \"that would have\", \"that's\": \"that is\",\n",
        "                       \"there'd\": \"there would\", \"there'd've\": \"there would have\", \"there's\": \"there is\", \"here's\": \"here is\",\"they'd\": \"they would\",\n",
        "                       \"they'd've\": \"they would have\", \"they'll\": \"they will\", \"they'll've\": \"they will have\", \"they're\": \"they are\", \"they've\": \"they have\",\n",
        "                       \"to've\": \"to have\", \"wasn't\": \"was not\", \"we'd\": \"we would\", \"we'd've\": \"we would have\", \"we'll\": \"we will\", \"we'll've\": \"we will have\",\n",
        "                       \"we're\": \"we are\", \"we've\": \"we have\", \"weren't\": \"were not\", \"what'll\": \"what will\", \"what'll've\": \"what will have\", \n",
        "                       \"what're\": \"what are\",  \"what's\": \"what is\", \"what've\": \"what have\", \"when's\": \"when is\", \"when've\": \"when have\", \"where'd\": \"where did\",\n",
        "                       \"where's\": \"where is\", \"where've\": \"where have\", \"who'll\": \"who will\", \"who'll've\": \"who will have\", \"who's\": \"who is\", \n",
        "                       \"who've\": \"who have\", \"why's\": \"why is\", \"why've\": \"why have\", \"will've\": \"will have\", \"won't\": \"will not\", \"won't've\": \"will not have\", \n",
        "                       \"would've\": \"would have\", \"wouldn't\": \"would not\", \"wouldn't've\": \"would not have\", \"y'all\": \"you all\", \"y'all'd\": \"you all would\",\n",
        "                       \"y'all'd've\": \"you all would have\",\"y'all're\": \"you all are\",\"y'all've\": \"you all have\",\"you'd\": \"you would\", \"you'd've\": \"you would have\",\n",
        "                       \"you'll\": \"you will\", \"you'll've\": \"you will have\", \"you're\": \"you are\", \"you've\": \"you have\", 'u.s':'america', 'e.g':'for example'}\n",
        "\n",
        "punct = [',', '.', '\"', ':', ')', '(', '-', '!', '?', '|', ';', \"'\", '$', '&', '/', '[', ']', '>', '%', '=', '#', '*', '+', '\\\\', '•',  '~', '@', '£', \n",
        " '·', '_', '{', '}', '©', '^', '®', '`',  '<', '→', '°', '€', '™', '›',  '♥', '←', '×', '§', '″', '′', 'Â', '█', '½', 'à', '…', \n",
        " '“', '★', '”', '–', '●', 'â', '►', '−', '¢', '²', '¬', '░', '¶', '↑', '±', '¿', '▾', '═', '¦', '║', '―', '¥', '▓', '—', '‹', '─', \n",
        " '▒', '：', '¼', '⊕', '▼', '▪', '†', '■', '’', '▀', '¨', '▄', '♫', '☆', 'é', '¯', '♦', '¤', '▲', 'è', '¸', '¾', 'Ã', '⋅', '‘', '∞', \n",
        " '∙', '）', '↓', '、', '│', '（', '»', '，', '♪', '╩', '╚', '³', '・', '╦', '╣', '╔', '╗', '▬', '❤', 'ï', 'Ø', '¹', '≤', '‡', '√', ]\n",
        "\n",
        "\n",
        "punct_mapping = {\"‘\": \"'\", \"₹\": \"e\", \"´\": \"'\", \"°\": \"\", \"€\": \"e\", \"™\": \"tm\", \"√\": \" sqrt \", \"×\": \"x\", \"²\": \"2\", \"—\": \"-\", \"–\": \"-\", \"’\": \"'\", \"_\": \"-\",\n",
        "                 \"`\": \"'\", '“': '\"', '”': '\"', '“': '\"', \"£\": \"e\", '∞': 'infinity', 'θ': 'theta', '÷': '/', 'α': 'alpha', '•': '.', 'à': 'a', '−': '-', \n",
        "                 'β': 'beta', '∅': '', '³': '3', 'π': 'pi', '!':' '}\n",
        "\n",
        "mispell_dict = {'colour': 'color', 'centre': 'center', 'favourite': 'favorite', 'travelling': 'traveling', 'counselling': 'counseling', 'theatre': 'theater',\n",
        "                'cancelled': 'canceled', 'labour': 'labor', 'organisation': 'organization', 'wwii': 'world war 2', 'citicise': 'criticize', 'youtu ': 'youtube ',\n",
        "                'Qoura': 'Quora', 'sallary': 'salary', 'Whta': 'What', 'narcisist': 'narcissist', 'howdo': 'how do', 'whatare': 'what are', 'howcan': 'how can',\n",
        "                'howmuch': 'how much', 'howmany': 'how many', 'whydo': 'why do', 'doI': 'do I', 'theBest': 'the best', 'howdoes': 'how does', \n",
        "                'mastrubation': 'masturbation', 'mastrubate': 'masturbate', \"mastrubating\": 'masturbating', 'pennis': 'penis', 'Etherium': 'Ethereum', \n",
        "                'narcissit': 'narcissist', 'bigdata': 'big data', '2k17': '2017', '2k18': '2018', 'qouta': 'quota', 'exboyfriend': 'ex boyfriend', \n",
        "                'airhostess': 'air hostess', \"whst\": 'what', 'watsapp': 'whatsapp', 'demonitisation': 'demonetization', 'demonitization': 'demonetization',\n",
        "                'demonetisation': 'demonetization'}"
      ],
      "metadata": {
        "id": "QP_qrbvyxm06"
      },
      "execution_count": 20,
      "outputs": []
    },
    {
      "cell_type": "code",
      "source": [
        "def clean_text(text):\n",
        "    '''Clean emoji, Make text lowercase, remove text in square brackets,remove links,remove punctuation\n",
        "    and remove words containing numbers.'''\n",
        "    text = emoji.demojize(text)\n",
        "    text = re.sub(r'\\:(.*?)\\:','',text)\n",
        "    text = str(text).lower()    #Making Text Lowercase\n",
        "    text = re.sub('\\[.*?\\]', '', text)\n",
        "    #The next 2 lines remove html text\n",
        "    text = BeautifulSoup(text, 'lxml').get_text()\n",
        "    text = re.sub('https?://\\S+|www\\.\\S+', '', text)\n",
        "    text = re.sub('<.*?>+', '', text)\n",
        "    text = re.sub('\\n', '', text)\n",
        "    text = re.sub('\\w*\\d\\w*', '', text)\n",
        "    # replacing everything with space except (a-z, A-Z, \".\", \"?\", \"!\", \",\", \"'\")\n",
        "    text = re.sub(r\"[^a-zA-Z?.!,¿']+\", \" \", text)\n",
        "    return text\n",
        "\n",
        "def clean_contractions(text, mapping):\n",
        "    '''Clean contraction using contraction mapping'''    \n",
        "    specials = [\"’\", \"‘\", \"´\", \"`\"]\n",
        "    for s in specials:\n",
        "        text = text.replace(s, \"'\")\n",
        "    for word in mapping.keys():\n",
        "        if \"\"+word+\"\" in text:\n",
        "            text = text.replace(\"\"+word+\"\", \"\"+mapping[word]+\"\")\n",
        "    #Remove Punctuations\n",
        "    text = re.sub('[%s]' % re.escape(string.punctuation), '', text)\n",
        "    # creating a space between a word and the punctuation following it\n",
        "    # eg: \"he is a boy.\" => \"he is a boy .\"\n",
        "    text = re.sub(r\"([?.!,¿])\", r\" \\1 \", text)\n",
        "    text = re.sub(r'[\" \"]+', \" \", text)\n",
        "    return text\n",
        "\n",
        "def clean_special_chars(text, punct, mapping):\n",
        "    '''Cleans special characters present(if any)'''   \n",
        "    for p in mapping:\n",
        "        text = text.replace(p, mapping[p])\n",
        "    \n",
        "    for p in punct:\n",
        "        text = text.replace(p, f' {p} ')\n",
        "    \n",
        "    specials = {'\\u200b': ' ', '…': ' ... ', '\\ufeff': '', 'करना': '', 'है': ''}  \n",
        "    for s in specials:\n",
        "        text = text.replace(s, specials[s])\n",
        "    \n",
        "    return text\n",
        "\n",
        "def correct_spelling(x, dic):\n",
        "    '''Corrects common spelling errors'''   \n",
        "    for word in dic.keys():\n",
        "        x = x.replace(word, dic[word])\n",
        "    return x\n",
        "\n",
        "def remove_space(text):\n",
        "    '''Removes awkward spaces'''   \n",
        "    #Removes awkward spaces \n",
        "    text = text.strip()\n",
        "    text = text.split()\n",
        "    return \" \".join(text)\n",
        "\n",
        "def text_preprocessing_pipeline(text):\n",
        "    '''Cleaning and parsing the text.'''\n",
        "    text = clean_text(text)\n",
        "    text = clean_contractions(text, contraction_mapping)\n",
        "    text = clean_special_chars(text, punct, punct_mapping)\n",
        "    text = correct_spelling(text, mispell_dict)\n",
        "    text = remove_space(text)\n",
        "    return text"
      ],
      "metadata": {
        "id": "X_6rvFp1y0pR"
      },
      "execution_count": 21,
      "outputs": []
    },
    {
      "cell_type": "code",
      "source": [
        "df_train['message'] = df_train['message'].apply(text_preprocessing_pipeline)\n",
        "df_test['message'] = df_test['message'].apply(text_preprocessing_pipeline)\n",
        "\n",
        "# df_train['original'] = df_train['original'].apply(text_preprocessing_pipeline)\n",
        "# df_test['original'] = df_test['original'].apply(text_preprocessing_pipeline)"
      ],
      "metadata": {
        "id": "_wYJ0ngqy6MD"
      },
      "execution_count": 23,
      "outputs": []
    },
    {
      "cell_type": "code",
      "source": [
        "df_train.reset_index(drop=True).to_csv(\"/content/drive/MyDrive/Colab Notebooks/datasets/SIH/Train-Test-Many Cat/train.csv\", index=False)\n",
        "df_test.reset_index(drop=True).to_csv(\"/content/drive/MyDrive/Colab Notebooks/datasets/SIH/Train-Test-Many Cat/val.csv\", index=False)"
      ],
      "metadata": {
        "id": "zzsiGRo9zRYU"
      },
      "execution_count": 33,
      "outputs": []
    },
    {
      "cell_type": "code",
      "source": [
        "df_train = df_train.drop(columns=['genre','original','split','Emotion'])\n",
        "df_test = df_test.drop(columns=['genre','original','split','Emotion'])"
      ],
      "metadata": {
        "id": "FpqcI_1Q0OPa"
      },
      "execution_count": 31,
      "outputs": []
    },
    {
      "cell_type": "code",
      "source": [
        "df_train.head(3)"
      ],
      "metadata": {
        "colab": {
          "base_uri": "https://localhost:8080/",
          "height": 0
        },
        "id": "HiTErcD0zpsL",
        "outputId": "b72c3209-7797-4ace-fd9d-4005cd2385d0"
      },
      "execution_count": 32,
      "outputs": [
        {
          "output_type": "execute_result",
          "data": {
            "text/html": [
              "\n",
              "  <div id=\"df-24951c7d-e824-4697-a4da-a5f318d47973\">\n",
              "    <div class=\"colab-df-container\">\n",
              "      <div>\n",
              "<style scoped>\n",
              "    .dataframe tbody tr th:only-of-type {\n",
              "        vertical-align: middle;\n",
              "    }\n",
              "\n",
              "    .dataframe tbody tr th {\n",
              "        vertical-align: top;\n",
              "    }\n",
              "\n",
              "    .dataframe thead th {\n",
              "        text-align: right;\n",
              "    }\n",
              "</style>\n",
              "<table border=\"1\" class=\"dataframe\">\n",
              "  <thead>\n",
              "    <tr style=\"text-align: right;\">\n",
              "      <th></th>\n",
              "      <th>id</th>\n",
              "      <th>message</th>\n",
              "      <th>related</th>\n",
              "      <th>PII</th>\n",
              "      <th>request</th>\n",
              "      <th>offer</th>\n",
              "      <th>aid_related</th>\n",
              "      <th>medical_help</th>\n",
              "      <th>medical_products</th>\n",
              "      <th>search_and_rescue</th>\n",
              "      <th>security</th>\n",
              "      <th>military</th>\n",
              "      <th>child_alone</th>\n",
              "      <th>water</th>\n",
              "      <th>food</th>\n",
              "      <th>shelter</th>\n",
              "      <th>clothing</th>\n",
              "      <th>money</th>\n",
              "      <th>missing_people</th>\n",
              "      <th>refugees</th>\n",
              "      <th>death</th>\n",
              "      <th>other_aid</th>\n",
              "      <th>infrastructure_related</th>\n",
              "      <th>transport</th>\n",
              "      <th>buildings</th>\n",
              "      <th>electricity</th>\n",
              "      <th>tools</th>\n",
              "      <th>hospitals</th>\n",
              "      <th>shops</th>\n",
              "      <th>aid_centers</th>\n",
              "      <th>other_infrastructure</th>\n",
              "      <th>weather_related</th>\n",
              "      <th>floods</th>\n",
              "      <th>storm</th>\n",
              "      <th>fire</th>\n",
              "      <th>earthquake</th>\n",
              "      <th>cold</th>\n",
              "      <th>other_weather</th>\n",
              "      <th>direct_report</th>\n",
              "    </tr>\n",
              "  </thead>\n",
              "  <tbody>\n",
              "    <tr>\n",
              "      <th>0</th>\n",
              "      <td>2</td>\n",
              "      <td>weather update a cold front from cuba that cou...</td>\n",
              "      <td>1</td>\n",
              "      <td>0</td>\n",
              "      <td>0</td>\n",
              "      <td>0</td>\n",
              "      <td>0</td>\n",
              "      <td>0</td>\n",
              "      <td>0</td>\n",
              "      <td>0</td>\n",
              "      <td>0</td>\n",
              "      <td>0</td>\n",
              "      <td>0</td>\n",
              "      <td>0</td>\n",
              "      <td>0</td>\n",
              "      <td>0</td>\n",
              "      <td>0</td>\n",
              "      <td>0</td>\n",
              "      <td>0</td>\n",
              "      <td>0</td>\n",
              "      <td>0</td>\n",
              "      <td>0</td>\n",
              "      <td>0</td>\n",
              "      <td>0</td>\n",
              "      <td>0</td>\n",
              "      <td>0</td>\n",
              "      <td>0</td>\n",
              "      <td>0</td>\n",
              "      <td>0</td>\n",
              "      <td>0</td>\n",
              "      <td>0</td>\n",
              "      <td>0</td>\n",
              "      <td>0</td>\n",
              "      <td>0</td>\n",
              "      <td>0</td>\n",
              "      <td>0</td>\n",
              "      <td>0</td>\n",
              "      <td>0</td>\n",
              "      <td>0</td>\n",
              "    </tr>\n",
              "    <tr>\n",
              "      <th>1</th>\n",
              "      <td>7</td>\n",
              "      <td>is the hurricane over or is it not over</td>\n",
              "      <td>1</td>\n",
              "      <td>0</td>\n",
              "      <td>0</td>\n",
              "      <td>0</td>\n",
              "      <td>1</td>\n",
              "      <td>0</td>\n",
              "      <td>0</td>\n",
              "      <td>0</td>\n",
              "      <td>0</td>\n",
              "      <td>0</td>\n",
              "      <td>0</td>\n",
              "      <td>0</td>\n",
              "      <td>0</td>\n",
              "      <td>0</td>\n",
              "      <td>0</td>\n",
              "      <td>0</td>\n",
              "      <td>0</td>\n",
              "      <td>0</td>\n",
              "      <td>0</td>\n",
              "      <td>1</td>\n",
              "      <td>0</td>\n",
              "      <td>0</td>\n",
              "      <td>0</td>\n",
              "      <td>0</td>\n",
              "      <td>0</td>\n",
              "      <td>0</td>\n",
              "      <td>0</td>\n",
              "      <td>0</td>\n",
              "      <td>0</td>\n",
              "      <td>1</td>\n",
              "      <td>0</td>\n",
              "      <td>1</td>\n",
              "      <td>0</td>\n",
              "      <td>0</td>\n",
              "      <td>0</td>\n",
              "      <td>0</td>\n",
              "      <td>0</td>\n",
              "    </tr>\n",
              "    <tr>\n",
              "      <th>2</th>\n",
              "      <td>12</td>\n",
              "      <td>says west side of haiti rest of the country to...</td>\n",
              "      <td>1</td>\n",
              "      <td>0</td>\n",
              "      <td>0</td>\n",
              "      <td>0</td>\n",
              "      <td>0</td>\n",
              "      <td>0</td>\n",
              "      <td>0</td>\n",
              "      <td>0</td>\n",
              "      <td>0</td>\n",
              "      <td>0</td>\n",
              "      <td>0</td>\n",
              "      <td>0</td>\n",
              "      <td>0</td>\n",
              "      <td>0</td>\n",
              "      <td>0</td>\n",
              "      <td>0</td>\n",
              "      <td>0</td>\n",
              "      <td>0</td>\n",
              "      <td>0</td>\n",
              "      <td>0</td>\n",
              "      <td>0</td>\n",
              "      <td>0</td>\n",
              "      <td>0</td>\n",
              "      <td>0</td>\n",
              "      <td>0</td>\n",
              "      <td>0</td>\n",
              "      <td>0</td>\n",
              "      <td>0</td>\n",
              "      <td>0</td>\n",
              "      <td>0</td>\n",
              "      <td>0</td>\n",
              "      <td>0</td>\n",
              "      <td>0</td>\n",
              "      <td>0</td>\n",
              "      <td>0</td>\n",
              "      <td>0</td>\n",
              "      <td>0</td>\n",
              "    </tr>\n",
              "  </tbody>\n",
              "</table>\n",
              "</div>\n",
              "      <button class=\"colab-df-convert\" onclick=\"convertToInteractive('df-24951c7d-e824-4697-a4da-a5f318d47973')\"\n",
              "              title=\"Convert this dataframe to an interactive table.\"\n",
              "              style=\"display:none;\">\n",
              "        \n",
              "  <svg xmlns=\"http://www.w3.org/2000/svg\" height=\"24px\"viewBox=\"0 0 24 24\"\n",
              "       width=\"24px\">\n",
              "    <path d=\"M0 0h24v24H0V0z\" fill=\"none\"/>\n",
              "    <path d=\"M18.56 5.44l.94 2.06.94-2.06 2.06-.94-2.06-.94-.94-2.06-.94 2.06-2.06.94zm-11 1L8.5 8.5l.94-2.06 2.06-.94-2.06-.94L8.5 2.5l-.94 2.06-2.06.94zm10 10l.94 2.06.94-2.06 2.06-.94-2.06-.94-.94-2.06-.94 2.06-2.06.94z\"/><path d=\"M17.41 7.96l-1.37-1.37c-.4-.4-.92-.59-1.43-.59-.52 0-1.04.2-1.43.59L10.3 9.45l-7.72 7.72c-.78.78-.78 2.05 0 2.83L4 21.41c.39.39.9.59 1.41.59.51 0 1.02-.2 1.41-.59l7.78-7.78 2.81-2.81c.8-.78.8-2.07 0-2.86zM5.41 20L4 18.59l7.72-7.72 1.47 1.35L5.41 20z\"/>\n",
              "  </svg>\n",
              "      </button>\n",
              "      \n",
              "  <style>\n",
              "    .colab-df-container {\n",
              "      display:flex;\n",
              "      flex-wrap:wrap;\n",
              "      gap: 12px;\n",
              "    }\n",
              "\n",
              "    .colab-df-convert {\n",
              "      background-color: #E8F0FE;\n",
              "      border: none;\n",
              "      border-radius: 50%;\n",
              "      cursor: pointer;\n",
              "      display: none;\n",
              "      fill: #1967D2;\n",
              "      height: 32px;\n",
              "      padding: 0 0 0 0;\n",
              "      width: 32px;\n",
              "    }\n",
              "\n",
              "    .colab-df-convert:hover {\n",
              "      background-color: #E2EBFA;\n",
              "      box-shadow: 0px 1px 2px rgba(60, 64, 67, 0.3), 0px 1px 3px 1px rgba(60, 64, 67, 0.15);\n",
              "      fill: #174EA6;\n",
              "    }\n",
              "\n",
              "    [theme=dark] .colab-df-convert {\n",
              "      background-color: #3B4455;\n",
              "      fill: #D2E3FC;\n",
              "    }\n",
              "\n",
              "    [theme=dark] .colab-df-convert:hover {\n",
              "      background-color: #434B5C;\n",
              "      box-shadow: 0px 1px 3px 1px rgba(0, 0, 0, 0.15);\n",
              "      filter: drop-shadow(0px 1px 2px rgba(0, 0, 0, 0.3));\n",
              "      fill: #FFFFFF;\n",
              "    }\n",
              "  </style>\n",
              "\n",
              "      <script>\n",
              "        const buttonEl =\n",
              "          document.querySelector('#df-24951c7d-e824-4697-a4da-a5f318d47973 button.colab-df-convert');\n",
              "        buttonEl.style.display =\n",
              "          google.colab.kernel.accessAllowed ? 'block' : 'none';\n",
              "\n",
              "        async function convertToInteractive(key) {\n",
              "          const element = document.querySelector('#df-24951c7d-e824-4697-a4da-a5f318d47973');\n",
              "          const dataTable =\n",
              "            await google.colab.kernel.invokeFunction('convertToInteractive',\n",
              "                                                     [key], {});\n",
              "          if (!dataTable) return;\n",
              "\n",
              "          const docLinkHtml = 'Like what you see? Visit the ' +\n",
              "            '<a target=\"_blank\" href=https://colab.research.google.com/notebooks/data_table.ipynb>data table notebook</a>'\n",
              "            + ' to learn more about interactive tables.';\n",
              "          element.innerHTML = '';\n",
              "          dataTable['output_type'] = 'display_data';\n",
              "          await google.colab.output.renderOutput(dataTable, element);\n",
              "          const docLink = document.createElement('div');\n",
              "          docLink.innerHTML = docLinkHtml;\n",
              "          element.appendChild(docLink);\n",
              "        }\n",
              "      </script>\n",
              "    </div>\n",
              "  </div>\n",
              "  "
            ],
            "text/plain": [
              "   id                                            message  related  PII  \\\n",
              "0   2  weather update a cold front from cuba that cou...        1    0   \n",
              "1   7            is the hurricane over or is it not over        1    0   \n",
              "2  12  says west side of haiti rest of the country to...        1    0   \n",
              "\n",
              "   request  offer  aid_related  medical_help  medical_products  \\\n",
              "0        0      0            0             0                 0   \n",
              "1        0      0            1             0                 0   \n",
              "2        0      0            0             0                 0   \n",
              "\n",
              "   search_and_rescue  security  military  child_alone  water  food  shelter  \\\n",
              "0                  0         0         0            0      0     0        0   \n",
              "1                  0         0         0            0      0     0        0   \n",
              "2                  0         0         0            0      0     0        0   \n",
              "\n",
              "   clothing  money  missing_people  refugees  death  other_aid  \\\n",
              "0         0      0               0         0      0          0   \n",
              "1         0      0               0         0      0          1   \n",
              "2         0      0               0         0      0          0   \n",
              "\n",
              "   infrastructure_related  transport  buildings  electricity  tools  \\\n",
              "0                       0          0          0            0      0   \n",
              "1                       0          0          0            0      0   \n",
              "2                       0          0          0            0      0   \n",
              "\n",
              "   hospitals  shops  aid_centers  other_infrastructure  weather_related  \\\n",
              "0          0      0            0                     0                0   \n",
              "1          0      0            0                     0                1   \n",
              "2          0      0            0                     0                0   \n",
              "\n",
              "   floods  storm  fire  earthquake  cold  other_weather  direct_report  \n",
              "0       0      0     0           0     0              0              0  \n",
              "1       0      1     0           0     0              0              0  \n",
              "2       0      0     0           0     0              0              0  "
            ]
          },
          "metadata": {},
          "execution_count": 32
        }
      ]
    },
    {
      "cell_type": "code",
      "source": [
        "print(df_train.shape)\n",
        "print(df_test.shape)"
      ],
      "metadata": {
        "colab": {
          "base_uri": "https://localhost:8080/"
        },
        "id": "3RaVjfW6z08N",
        "outputId": "adb5627f-3a98-409e-bf63-a8fdbefd3c00"
      },
      "execution_count": 34,
      "outputs": [
        {
          "output_type": "stream",
          "name": "stdout",
          "text": [
            "(21046, 39)\n",
            "(2629, 39)\n"
          ]
        }
      ]
    },
    {
      "cell_type": "markdown",
      "source": [
        "### Modeling"
      ],
      "metadata": {
        "id": "g0zOe9220CKr"
      }
    },
    {
      "cell_type": "code",
      "source": [
        "MAX_LEN = 200\n",
        "TRAIN_BATCH_SIZE = 32\n",
        "VALID_BATCH_SIZE = 32\n",
        "EPOCHS = 10\n",
        "LEARNING_RATE = 2e-5\n",
        "tokenizer = AutoTokenizer.from_pretrained('roberta-base')"
      ],
      "metadata": {
        "id": "077TiUohz7oD"
      },
      "execution_count": 51,
      "outputs": []
    },
    {
      "cell_type": "code",
      "source": [
        "target_cols = [col for col in df_train.columns if col not in ['message', 'id']]\n",
        "len(target_cols)"
      ],
      "metadata": {
        "colab": {
          "base_uri": "https://localhost:8080/"
        },
        "id": "pvrlB82u0GHQ",
        "outputId": "b98e65c6-c8e1-48c5-f88c-3fc900319db1"
      },
      "execution_count": 52,
      "outputs": [
        {
          "output_type": "execute_result",
          "data": {
            "text/plain": [
              "37"
            ]
          },
          "metadata": {},
          "execution_count": 52
        }
      ]
    },
    {
      "cell_type": "code",
      "source": [
        "class BERTDataset(Dataset):\n",
        "    def __init__(self, df, tokenizer, max_len):\n",
        "        self.df = df\n",
        "        self.max_len = max_len\n",
        "        self.text = df.message\n",
        "        self.tokenizer = tokenizer\n",
        "        self.targets = df[target_cols].values\n",
        "        \n",
        "    def __len__(self):\n",
        "        return len(self.df)\n",
        "    \n",
        "    def __getitem__(self, index):\n",
        "        text = self.text[index]\n",
        "        inputs = self.tokenizer.encode_plus(\n",
        "            text,\n",
        "            truncation=True,\n",
        "            add_special_tokens=True,\n",
        "            max_length=self.max_len,\n",
        "            padding='max_length',\n",
        "            return_token_type_ids=True\n",
        "        )\n",
        "        ids = inputs['input_ids']\n",
        "        mask = inputs['attention_mask']\n",
        "        token_type_ids = inputs[\"token_type_ids\"]\n",
        "        \n",
        "        return {\n",
        "            'ids': torch.tensor(ids, dtype=torch.long),\n",
        "            'mask': torch.tensor(mask, dtype=torch.long),\n",
        "            'token_type_ids': torch.tensor(token_type_ids, dtype=torch.long),\n",
        "            'targets': torch.tensor(self.targets[index], dtype=torch.float)\n",
        "        }\n"
      ],
      "metadata": {
        "id": "8vhlSPwL0sq1"
      },
      "execution_count": 53,
      "outputs": []
    },
    {
      "cell_type": "code",
      "source": [
        "train_dataset = BERTDataset(df_train, tokenizer, MAX_LEN)\n",
        "valid_dataset = BERTDataset(df_test, tokenizer, MAX_LEN)"
      ],
      "metadata": {
        "id": "rt2kkTLo1O2h"
      },
      "execution_count": 54,
      "outputs": []
    },
    {
      "cell_type": "code",
      "source": [
        "train_loader = DataLoader(train_dataset, batch_size=TRAIN_BATCH_SIZE, \n",
        "                          num_workers=4, shuffle=True, pin_memory=True)\n",
        "valid_loader = DataLoader(valid_dataset, batch_size=VALID_BATCH_SIZE, \n",
        "                          num_workers=4, shuffle=False, pin_memory=True)"
      ],
      "metadata": {
        "id": "YLdzmmdM1Zm1"
      },
      "execution_count": 55,
      "outputs": []
    },
    {
      "cell_type": "code",
      "source": [
        "# Creating the customized model, by adding a drop out and a dense layer on top of distil bert to get the final output for the model. \n",
        "\n",
        "class BERTClass(torch.nn.Module):\n",
        "    def __init__(self):\n",
        "        super(BERTClass, self).__init__()\n",
        "        self.roberta = AutoModel.from_pretrained('roberta-base')\n",
        "#         self.l2 = torch.nn.Dropout(0.3)\n",
        "        self.fc = torch.nn.Linear(768,37)\n",
        "    \n",
        "    def forward(self, ids, mask, token_type_ids):\n",
        "        _, features = self.roberta(ids, attention_mask = mask, token_type_ids = token_type_ids, return_dict=False)\n",
        "#         output_2 = self.l2(output_1)\n",
        "        output = self.fc(features)\n",
        "        return output\n",
        "\n",
        "model = BERTClass()\n",
        "model.to(device);"
      ],
      "metadata": {
        "colab": {
          "base_uri": "https://localhost:8080/"
        },
        "id": "m6eMDua21e04",
        "outputId": "04b49dbc-0fd4-4930-c2ef-112d26fe3c91"
      },
      "execution_count": 56,
      "outputs": [
        {
          "output_type": "stream",
          "name": "stderr",
          "text": [
            "Some weights of the model checkpoint at roberta-base were not used when initializing RobertaModel: ['lm_head.dense.bias', 'lm_head.dense.weight', 'lm_head.bias', 'lm_head.layer_norm.bias', 'lm_head.decoder.weight', 'lm_head.layer_norm.weight']\n",
            "- This IS expected if you are initializing RobertaModel from the checkpoint of a model trained on another task or with another architecture (e.g. initializing a BertForSequenceClassification model from a BertForPreTraining model).\n",
            "- This IS NOT expected if you are initializing RobertaModel from the checkpoint of a model that you expect to be exactly identical (initializing a BertForSequenceClassification model from a BertForSequenceClassification model).\n"
          ]
        }
      ]
    },
    {
      "cell_type": "code",
      "source": [
        "def loss_fn(outputs, targets):\n",
        "    return torch.nn.BCEWithLogitsLoss()(outputs, targets)\n",
        "\n",
        "optimizer = AdamW(params =  model.parameters(), lr=LEARNING_RATE, weight_decay=1e-6)"
      ],
      "metadata": {
        "id": "biQvcEWK1un4"
      },
      "execution_count": 57,
      "outputs": []
    },
    {
      "cell_type": "code",
      "source": [
        "def train(epoch):\n",
        "    model.train()\n",
        "    for _,data in enumerate(train_loader, 0):\n",
        "        ids = data['ids'].to(device, dtype = torch.long)\n",
        "        mask = data['mask'].to(device, dtype = torch.long)\n",
        "        token_type_ids = data['token_type_ids'].to(device, dtype = torch.long)\n",
        "        targets = data['targets'].to(device, dtype = torch.float)\n",
        "\n",
        "        outputs = model(ids, mask, token_type_ids)\n",
        "\n",
        "        loss = loss_fn(outputs, targets)\n",
        "        if _%500 == 0:\n",
        "            print(f'Epoch: {epoch}, Loss:  {loss.item()}')\n",
        "        \n",
        "        loss.backward()\n",
        "        optimizer.step()\n",
        "        optimizer.zero_grad()"
      ],
      "metadata": {
        "id": "8_0heUWX122M"
      },
      "execution_count": 58,
      "outputs": []
    },
    {
      "cell_type": "code",
      "source": [
        "import torch\n",
        "torch.cuda.empty_cache()"
      ],
      "metadata": {
        "id": "0xtT4d6J2IEz"
      },
      "execution_count": 59,
      "outputs": []
    },
    {
      "cell_type": "code",
      "source": [
        "for epoch in range(EPOCHS):\n",
        "    train(epoch) #22-44ff min per epochs"
      ],
      "metadata": {
        "colab": {
          "base_uri": "https://localhost:8080/"
        },
        "id": "wSO3HIsY15-y",
        "outputId": "01b1656c-623a-4805-9814-3a70a2fcf605"
      },
      "execution_count": 60,
      "outputs": [
        {
          "output_type": "stream",
          "name": "stdout",
          "text": [
            "Epoch: 0, Loss:  0.6928717494010925\n",
            "Epoch: 0, Loss:  0.18061181902885437\n",
            "Epoch: 1, Loss:  0.1931094378232956\n",
            "Epoch: 1, Loss:  0.19708414375782013\n",
            "Epoch: 2, Loss:  0.11524150520563126\n",
            "Epoch: 2, Loss:  0.11918362230062485\n",
            "Epoch: 3, Loss:  0.14085042476654053\n",
            "Epoch: 3, Loss:  0.10419858247041702\n",
            "Epoch: 4, Loss:  0.12140319496393204\n",
            "Epoch: 4, Loss:  0.15220774710178375\n",
            "Epoch: 5, Loss:  0.09529544413089752\n",
            "Epoch: 5, Loss:  0.12034261971712112\n",
            "Epoch: 6, Loss:  0.10100611299276352\n",
            "Epoch: 6, Loss:  0.10012883692979813\n",
            "Epoch: 7, Loss:  0.11759384721517563\n",
            "Epoch: 7, Loss:  0.06695884466171265\n",
            "Epoch: 8, Loss:  0.11609608680009842\n",
            "Epoch: 8, Loss:  0.07580355554819107\n",
            "Epoch: 9, Loss:  0.057502198964357376\n",
            "Epoch: 9, Loss:  0.08716174215078354\n"
          ]
        }
      ]
    },
    {
      "cell_type": "markdown",
      "source": [
        "### Interfrence"
      ],
      "metadata": {
        "id": "bB1Bx2mb2x4T"
      }
    },
    {
      "cell_type": "code",
      "source": [
        "def validation():\n",
        "    model.eval()\n",
        "    fin_targets=[]\n",
        "    fin_outputs=[]\n",
        "    with torch.no_grad():\n",
        "        for _, data in enumerate(valid_loader, 0):\n",
        "            ids = data['ids'].to(device, dtype = torch.long)\n",
        "            mask = data['mask'].to(device, dtype = torch.long)\n",
        "            token_type_ids = data['token_type_ids'].to(device, dtype = torch.long)\n",
        "            targets = data['targets'].to(device, dtype = torch.float)\n",
        "            outputs = model(ids, mask, token_type_ids) #eval command\n",
        "            fin_targets.extend(targets.cpu().detach().numpy().tolist())\n",
        "            fin_outputs.extend(torch.sigmoid(outputs).cpu().detach().numpy().tolist()) #eval output to sigmoid function and then to user\n",
        "    return fin_outputs, fin_targets\n",
        "\n",
        "#we get outputs & targets"
      ],
      "metadata": {
        "id": "PWvj6ZIJ17_d"
      },
      "execution_count": 61,
      "outputs": []
    },
    {
      "cell_type": "code",
      "source": [
        "outputs, targets = validation()\n",
        "outputs = np.array(outputs) >= 0.5 #more than 0.5 are only used for accuracy\n"
      ],
      "metadata": {
        "id": "jmbcJ13V2w1u"
      },
      "execution_count": 63,
      "outputs": []
    },
    {
      "cell_type": "code",
      "source": [
        "#accuracy and metrics code\n",
        "# accuracy = metrics.accuracy_score(targets, outputs)\n",
        "# f1_score_micro = metrics.f1_score(targets, outputs, average='micro')\n",
        "# f1_score_macro = metrics.f1_score(targets, outputs, average='macro')\n",
        "# print(f\"Accuracy Score = {accuracy}\")\n",
        "# print(f\"F1 Score (Micro) = {f1_score_micro}\")\n",
        "# print(f\"F1 Score (Macro) = {f1_score_macro}\")\n",
        "\n",
        "from sklearn.metrics import classification_report\n",
        "import sklearn.metrics\n",
        "\n",
        "from sklearn.naive_bayes import MultinomialNB\n",
        "from sklearn.linear_model import SGDClassifier\n",
        "from sklearn.linear_model import LogisticRegression\n",
        "from sklearn.multiclass import OneVsRestClassifier\n",
        "from sklearn.metrics import hamming_loss\n",
        "\n",
        "def hamming_score(y_true, y_pred, normalize=True, sample_weight=None):\n",
        "    '''\n",
        "    Compute the Hamming score (a.k.a. label-based accuracy) for the multi-label case\n",
        "    https://stackoverflow.com/q/32239577/395857\n",
        "    '''\n",
        "    acc_list = []\n",
        "    for i in range(y_true.shape[0]):\n",
        "        set_true = set( np.where(y_true[i])[0] )\n",
        "        set_pred = set( np.where(y_pred[i])[0] )\n",
        "        #print('\\nset_true: {0}'.format(set_true))\n",
        "        #print('set_pred: {0}'.format(set_pred))\n",
        "        tmp_a = None\n",
        "        if len(set_true) == 0 and len(set_pred) == 0:\n",
        "            tmp_a = 1\n",
        "        else:\n",
        "            tmp_a = len(set_true.intersection(set_pred))/\\\n",
        "                    float( len(set_true.union(set_pred)) )\n",
        "        #print('tmp_a: {0}'.format(tmp_a))\n",
        "        acc_list.append(tmp_a)\n",
        "    return np.mean(acc_list)\n",
        "\n",
        "def print_score(y_pred,y_test_tfidf):\n",
        "    print(\"Hamming loss: {}\".format(hamming_loss(y_pred, y_test_tfidf)))\n",
        "    print(\"Hamming score: {}\".format(hamming_score(y_pred, y_test_tfidf)))\n",
        "    print(\"---\")\n",
        "\n",
        "hamming_score(outputs,targets) #smaller is better\n",
        "\n",
        "#Hamming Score is the fraction of correct predictions compared to the total labels. This is similar to\n",
        "#Accuracy, and in fact they are interchangeable."
      ],
      "metadata": {
        "colab": {
          "base_uri": "https://localhost:8080/"
        },
        "id": "hvvte4IBrwSu",
        "outputId": "76c6e6e0-72a5-48e4-a4a9-450420db3891"
      },
      "execution_count": 88,
      "outputs": [
        {
          "output_type": "execute_result",
          "data": {
            "text/plain": [
              "0.6582989872643733"
            ]
          },
          "metadata": {},
          "execution_count": 88
        }
      ]
    },
    {
      "cell_type": "code",
      "source": [
        "import torch\n",
        "torch.save(model.state_dict(),'/content/drive/MyDrive/Colab Notebooks/SIH/#Models/roberta-base-10-many-cat-bs(32).bin')"
      ],
      "metadata": {
        "id": "iIWqv_vX2z_e"
      },
      "execution_count": 65,
      "outputs": []
    },
    {
      "cell_type": "markdown",
      "source": [
        "### Predict Function"
      ],
      "metadata": {
        "id": "NHiDUR0KQSBu"
      }
    },
    {
      "cell_type": "code",
      "source": [
        "model = model.load_state_dict(torch.load('/content/drive/MyDrive/Colab Notebooks/SIH/#Models/roberta-base-10-many-cat-bs(32).bin'))"
      ],
      "metadata": {
        "id": "82CKmcpk3Dic"
      },
      "execution_count": 93,
      "outputs": []
    },
    {
      "cell_type": "code",
      "source": [
        "def predict(text,tokenizer,):\n"
      ],
      "metadata": {
        "id": "IxTTzU_Sp9ip"
      },
      "execution_count": null,
      "outputs": []
    }
  ]
}